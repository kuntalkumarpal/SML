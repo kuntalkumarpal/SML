{
 "cells": [
  {
   "cell_type": "code",
   "execution_count": 2,
   "metadata": {},
   "outputs": [],
   "source": [
    "import numpy as np\n",
    "from sklearn.datasets import fetch_openml"
   ]
  },
  {
   "cell_type": "code",
   "execution_count": 3,
   "metadata": {},
   "outputs": [],
   "source": [
    "X,Y = fetch_openml('mnist_784', return_X_y = True)"
   ]
  },
  {
   "cell_type": "code",
   "execution_count": 4,
   "metadata": {},
   "outputs": [],
   "source": [
    "# Data preparation\n",
    "n_train = 6000\n",
    "n_test = 1000\n",
    "n_train_original = 60000\n",
    "trainX = X[0:n_train,:]\n",
    "trainY = Y[0:n_train]\n",
    "testX = X[n_train_original:n_train_original + n_test,:]\n",
    "testY = Y[n_train_original:n_train_original + n_test]"
   ]
  },
  {
   "cell_type": "code",
   "execution_count": 5,
   "metadata": {},
   "outputs": [
    {
     "name": "stdout",
     "output_type": "stream",
     "text": [
      "(6000, 784) (6000,) (1000, 784) (1000,)\n"
     ]
    }
   ],
   "source": [
    "print (trainX.shape, trainY.shape, testX.shape, testY.shape)"
   ]
  },
  {
   "cell_type": "code",
   "execution_count": 24,
   "metadata": {},
   "outputs": [],
   "source": [
    "from tqdm import tqdm_notebook as tqdm\n",
    "import matplotlib.pyplot as plt\n",
    "K = [1, 9, 19, 29, 39, 49, 59, 69, 79, 89, 99]"
   ]
  },
  {
   "cell_type": "code",
   "execution_count": null,
   "metadata": {},
   "outputs": [],
   "source": [
    "class KNN:\n",
    "    def __init__(self, k):\n",
    "        self.K = k\n",
    "\n",
    "    def calcDistance(self, X, Y):\n",
    "        ''' Calculates the Eucleidian distance between two numpy arrays  '''\n",
    "        #print (X-Y)\n",
    "        #print (np.sum((X-Y)**2))\n",
    "        distance = np.sqrt(np.sum((X-Y)**2,axis=1))\n",
    "        return distance\n",
    "\n",
    "    def predict(self, trainX, trainY, testX):\n",
    "        ''' Predicts the class of each test data'''\n",
    "        n_testX = len(testX)\n",
    "        pred = []\n",
    "        for i in tqdm(range(n_testX)):\n",
    "            dist = self.calcDistance(trainX, testX[i])\n",
    "            #distance.append(dist)\n",
    "            sorted_dist = np.argsort(dist)\n",
    "            #print (self.K)\n",
    "            #print (sorted_dist[:self.K])\n",
    "            minKDist = sorted_dist[:self.K]\n",
    "            minKVotes = trainY[minKDist]\n",
    "            #print (minKVotes.astype('int'))\n",
    "            eachPredClass = np.argsort(np.bincount(minKVotes.astype('int')))[-1]\n",
    "            #print (eachPredClass)\n",
    "            pred.append(eachPredClass)\n",
    "        return pred\n",
    "        \n",
    "    def accuracy(self, predY, goldY):\n",
    "        ''' Calculates error rate  of the code'''\n",
    "        predY = np.array(predY)\n",
    "        goldY = np.array(goldY)\n",
    "        match = np.count_nonzero(predY == goldY)\n",
    "        return round((1 - (match/len(goldY))),4)\n",
    "    \n",
    "def visualization(trainError, testError, KList):\n",
    "    fig = plt.figure()\n",
    "    ax = plt.axes()\n",
    "    ax.plot(KList, trainError, label='TrainAccuracy',marker='o')\n",
    "    ax.plot(KList, testError, label='TestAccuracy',marker='o')\n",
    "    plt.xlim(0,110)\n",
    "    plt.ylim(0,0.2)\n",
    "    plt.title(\"KNN-Accuracy vs K\")\n",
    "    plt.legend()\n",
    "    plt.xlabel(\"K\")\n",
    "    plt.ylabel(\"Error_Rate\")\n",
    "    plt.show()\n",
    "        "
   ]
  },
  {
   "cell_type": "code",
   "execution_count": null,
   "metadata": {},
   "outputs": [
    {
     "name": "stdout",
     "output_type": "stream",
     "text": [
      "K: 1\n"
     ]
    },
    {
     "data": {
      "application/vnd.jupyter.widget-view+json": {
       "model_id": "a4898073fb2b4299bce86a4b25a5f4f5",
       "version_major": 2,
       "version_minor": 0
      },
      "text/plain": [
       "A Jupyter Widget"
      ]
     },
     "metadata": {},
     "output_type": "display_data"
    },
    {
     "name": "stdout",
     "output_type": "stream",
     "text": [
      "0.1\n"
     ]
    },
    {
     "data": {
      "application/vnd.jupyter.widget-view+json": {
       "model_id": "bb8b5c79e1854fa287b09d57b50d60a9",
       "version_major": 2,
       "version_minor": 0
      },
      "text/plain": [
       "A Jupyter Widget"
      ]
     },
     "metadata": {},
     "output_type": "display_data"
    },
    {
     "name": "stdout",
     "output_type": "stream",
     "text": [
      "0.0\n"
     ]
    },
    {
     "data": {
      "application/vnd.jupyter.widget-view+json": {
       "model_id": "5cfa9086da454582a9e91766fdeae940",
       "version_major": 2,
       "version_minor": 0
      },
      "text/plain": [
       "A Jupyter Widget"
      ]
     },
     "metadata": {},
     "output_type": "display_data"
    },
    {
     "name": "stdout",
     "output_type": "stream",
     "text": [
      "0.1\n"
     ]
    },
    {
     "data": {
      "application/vnd.jupyter.widget-view+json": {
       "model_id": "c3452e2e2a994c98b142e6b58b494d06",
       "version_major": 2,
       "version_minor": 0
      },
      "text/plain": [
       "A Jupyter Widget"
      ]
     },
     "metadata": {},
     "output_type": "display_data"
    },
    {
     "name": "stdout",
     "output_type": "stream",
     "text": [
      "0.0\n"
     ]
    },
    {
     "data": {
      "application/vnd.jupyter.widget-view+json": {
       "model_id": "1eef266544a34818a6ea7016befe2708",
       "version_major": 2,
       "version_minor": 0
      },
      "text/plain": [
       "A Jupyter Widget"
      ]
     },
     "metadata": {},
     "output_type": "display_data"
    },
    {
     "name": "stdout",
     "output_type": "stream",
     "text": [
      "0.1\n"
     ]
    },
    {
     "data": {
      "application/vnd.jupyter.widget-view+json": {
       "model_id": "c2c0305f628b4c33b40b1fba77410687",
       "version_major": 2,
       "version_minor": 0
      },
      "text/plain": [
       "A Jupyter Widget"
      ]
     },
     "metadata": {},
     "output_type": "display_data"
    },
    {
     "name": "stdout",
     "output_type": "stream",
     "text": [
      "0.0\n"
     ]
    },
    {
     "data": {
      "application/vnd.jupyter.widget-view+json": {
       "model_id": "e9352f0c9a0f4cf783d6a2ef2eb7f717",
       "version_major": 2,
       "version_minor": 0
      },
      "text/plain": [
       "A Jupyter Widget"
      ]
     },
     "metadata": {},
     "output_type": "display_data"
    },
    {
     "name": "stdout",
     "output_type": "stream",
     "text": [
      "0.1\n"
     ]
    },
    {
     "data": {
      "application/vnd.jupyter.widget-view+json": {
       "model_id": "7d7af4628f0b416db275baa496bcc354",
       "version_major": 2,
       "version_minor": 0
      },
      "text/plain": [
       "A Jupyter Widget"
      ]
     },
     "metadata": {},
     "output_type": "display_data"
    },
    {
     "name": "stdout",
     "output_type": "stream",
     "text": [
      "0.0\n"
     ]
    },
    {
     "data": {
      "application/vnd.jupyter.widget-view+json": {
       "model_id": "7022f796e489436a902267bae05a8107",
       "version_major": 2,
       "version_minor": 0
      },
      "text/plain": [
       "A Jupyter Widget"
      ]
     },
     "metadata": {},
     "output_type": "display_data"
    },
    {
     "name": "stdout",
     "output_type": "stream",
     "text": [
      "0.1\n"
     ]
    },
    {
     "data": {
      "application/vnd.jupyter.widget-view+json": {
       "model_id": "6878ea18308f42028e669e9cd1e1f098",
       "version_major": 2,
       "version_minor": 0
      },
      "text/plain": [
       "A Jupyter Widget"
      ]
     },
     "metadata": {},
     "output_type": "display_data"
    },
    {
     "name": "stdout",
     "output_type": "stream",
     "text": [
      "0.0\n",
      "0.1 0.0\n",
      "K: 9\n"
     ]
    },
    {
     "data": {
      "application/vnd.jupyter.widget-view+json": {
       "model_id": "0a83c94add6b469693e6fd6ff822042a",
       "version_major": 2,
       "version_minor": 0
      },
      "text/plain": [
       "A Jupyter Widget"
      ]
     },
     "metadata": {},
     "output_type": "display_data"
    },
    {
     "name": "stdout",
     "output_type": "stream",
     "text": [
      "0.08\n"
     ]
    },
    {
     "data": {
      "application/vnd.jupyter.widget-view+json": {
       "model_id": "417a937e9c8e48d7bf9c90522d472c56",
       "version_major": 2,
       "version_minor": 0
      },
      "text/plain": [
       "A Jupyter Widget"
      ]
     },
     "metadata": {},
     "output_type": "display_data"
    },
    {
     "name": "stdout",
     "output_type": "stream",
     "text": [
      "0.05\n"
     ]
    },
    {
     "data": {
      "application/vnd.jupyter.widget-view+json": {
       "model_id": "6330fad5e9984d53a11ec2f334636f60",
       "version_major": 2,
       "version_minor": 0
      },
      "text/plain": [
       "A Jupyter Widget"
      ]
     },
     "metadata": {},
     "output_type": "display_data"
    },
    {
     "name": "stdout",
     "output_type": "stream",
     "text": [
      "0.08\n"
     ]
    },
    {
     "data": {
      "application/vnd.jupyter.widget-view+json": {
       "model_id": "5965a3824a504b2eb8b8eff3a728591d",
       "version_major": 2,
       "version_minor": 0
      },
      "text/plain": [
       "A Jupyter Widget"
      ]
     },
     "metadata": {},
     "output_type": "display_data"
    },
    {
     "name": "stdout",
     "output_type": "stream",
     "text": [
      "0.05\n"
     ]
    },
    {
     "data": {
      "application/vnd.jupyter.widget-view+json": {
       "model_id": "f97a0ff3f7144ce38930944ac0211b2a",
       "version_major": 2,
       "version_minor": 0
      },
      "text/plain": [
       "A Jupyter Widget"
      ]
     },
     "metadata": {},
     "output_type": "display_data"
    },
    {
     "name": "stdout",
     "output_type": "stream",
     "text": [
      "0.08\n"
     ]
    },
    {
     "data": {
      "application/vnd.jupyter.widget-view+json": {
       "model_id": "71a917d7fc204ba598c0d9947a98f9e0",
       "version_major": 2,
       "version_minor": 0
      },
      "text/plain": [
       "A Jupyter Widget"
      ]
     },
     "metadata": {},
     "output_type": "display_data"
    },
    {
     "name": "stdout",
     "output_type": "stream",
     "text": [
      "0.05\n"
     ]
    },
    {
     "data": {
      "application/vnd.jupyter.widget-view+json": {
       "model_id": "60d5b5bae72047cf8b68138030de0229",
       "version_major": 2,
       "version_minor": 0
      },
      "text/plain": [
       "A Jupyter Widget"
      ]
     },
     "metadata": {},
     "output_type": "display_data"
    },
    {
     "name": "stdout",
     "output_type": "stream",
     "text": [
      "0.08\n"
     ]
    },
    {
     "data": {
      "application/vnd.jupyter.widget-view+json": {
       "model_id": "07f817cddc62460e9a5738d6d5fb2a3b",
       "version_major": 2,
       "version_minor": 0
      },
      "text/plain": [
       "A Jupyter Widget"
      ]
     },
     "metadata": {},
     "output_type": "display_data"
    },
    {
     "name": "stdout",
     "output_type": "stream",
     "text": [
      "0.05\n"
     ]
    },
    {
     "data": {
      "application/vnd.jupyter.widget-view+json": {
       "model_id": "956afa5c753d459fa3a122b76adafdd7",
       "version_major": 2,
       "version_minor": 0
      },
      "text/plain": [
       "A Jupyter Widget"
      ]
     },
     "metadata": {},
     "output_type": "display_data"
    },
    {
     "name": "stdout",
     "output_type": "stream",
     "text": [
      "0.08\n"
     ]
    },
    {
     "data": {
      "application/vnd.jupyter.widget-view+json": {
       "model_id": "4ee98da540934ad2be12f19ee0bab874",
       "version_major": 2,
       "version_minor": 0
      },
      "text/plain": [
       "A Jupyter Widget"
      ]
     },
     "metadata": {},
     "output_type": "display_data"
    },
    {
     "name": "stdout",
     "output_type": "stream",
     "text": [
      "0.05\n",
      "0.08 0.05\n",
      "K: 19\n"
     ]
    },
    {
     "data": {
      "application/vnd.jupyter.widget-view+json": {
       "model_id": "813160e3ca9f4e7d9c45fb69431e48ce",
       "version_major": 2,
       "version_minor": 0
      },
      "text/plain": [
       "A Jupyter Widget"
      ]
     },
     "metadata": {},
     "output_type": "display_data"
    },
    {
     "name": "stdout",
     "output_type": "stream",
     "text": [
      "0.11\n"
     ]
    },
    {
     "data": {
      "application/vnd.jupyter.widget-view+json": {
       "model_id": "05ac054f14714f5b83f227f3b1843b54",
       "version_major": 2,
       "version_minor": 0
      },
      "text/plain": [
       "A Jupyter Widget"
      ]
     },
     "metadata": {},
     "output_type": "display_data"
    }
   ],
   "source": [
    "#from tqdm import tqdm\n",
    "\n",
    "n_iteration = 5\n",
    "test_error = []\n",
    "train_error = []\n",
    "for eachK in K:\n",
    "    print (\"K:\",eachK)\n",
    "    knn = KNN(eachK)\n",
    "    test_eachKError = []\n",
    "    train_eachKError = []\n",
    "    for eachIter in range(n_iteration):\n",
    "        predY = knn.predict(trainX, trainY, testX)\n",
    "        goldY = testY.astype('int').tolist()\n",
    "        error = knn.accuracy(predY, goldY)\n",
    "        test_eachKError.append(error)\n",
    "        \n",
    "        print (error)\n",
    "        \n",
    "        predY = knn.predict(trainX, trainY, trainX)\n",
    "        goldY = trainY.astype('int').tolist()\n",
    "        error = knn.accuracy(predY, goldY)\n",
    "        train_eachKError.append(error)\n",
    "        \n",
    "        print (error)\n",
    "    test_error.append(sum(test_eachKError)/len(test_eachKError))\n",
    "    train_error.append(sum(train_eachKError)/len(train_eachKError))\n",
    "    print(test_error[-1],train_error[-1])\n",
    "    \n",
    "print (test_error)\n",
    "print (train_error)"
   ]
  },
  {
   "cell_type": "code",
   "execution_count": 26,
   "metadata": {},
   "outputs": [],
   "source": [
    "testError = [0.09599999999999997, 0.08399999999999996, 0.10899999999999999, 0.127, 0.131, 0.132, 0.14400000000000002, 0.15200000000000002, 0.15500000000000003, 0.16500000000000004, 0.17000000000000004]\n",
    "trainError = [0.0, 0.04849999999999999, 0.06666666666666665, 0.07683333333333331, 0.08599999999999997, 0.09333333333333338, 0.10133333333333339, 0.10633333333333328, 0.11283333333333334, 0.1186666666666667, 0.1253333333333333]"
   ]
  },
  {
   "cell_type": "code",
   "execution_count": 33,
   "metadata": {},
   "outputs": [
    {
     "data": {
      "image/png": "[encoded data removed]",
      "text/plain": [
       "<Figure size 432x288 with 1 Axes>"
      ]
     },
     "metadata": {
      "needs_background": "light"
     },
     "output_type": "display_data"
    }
   ],
   "source": [
    "visualization(trainError, testError, K)"
   ]
  },
  {
   "cell_type": "code",
   "execution_count": 77,
   "metadata": {},
   "outputs": [],
   "source": [
    "# x = np.array([[2,3,4],[1,2,3]])\n",
    "# y = np.array([[1,1,1],[1,2,1]])\n",
    "# print (calcDistance(x,y))"
   ]
  },
  {
   "cell_type": "code",
   "execution_count": 78,
   "metadata": {},
   "outputs": [],
   "source": [
    "# r = np.array([9,4,56,7,40,1])\n",
    "# p = np.array([11,22,11,44,11,22])\n",
    "# print (r)\n",
    "# z = p[np.argsort(r)[:3]]\n",
    "# print (z)\n",
    "# print ((np.argsort(np.bincount(z))[-1]))"
   ]
  },
  {
   "cell_type": "code",
   "execution_count": null,
   "metadata": {},
   "outputs": [],
   "source": []
  }
 ],
 "metadata": {
  "kernelspec": {
   "display_name": "Python 3",
   "language": "python",
   "name": "python3"
  },
  "language_info": {
   "codemirror_mode": {
    "name": "ipython",
    "version": 3
   },
   "file_extension": ".py",
   "mimetype": "text/x-python",
   "name": "python",
   "nbconvert_exporter": "python",
   "pygments_lexer": "ipython3",
   "version": "3.6.3"
  }
 },
 "nbformat": 4,
 "nbformat_minor": 2
}
