{
 "cells": [
  {
   "cell_type": "code",
   "execution_count": 178,
   "metadata": {},
   "outputs": [],
   "source": [
    "import csv\n",
    "import pandas\n",
    "import numpy as np\n",
    "import matplotlib.pyplot as plt"
   ]
  },
  {
   "cell_type": "code",
   "execution_count": 2,
   "metadata": {},
   "outputs": [],
   "source": [
    "def dataPreparation(path):\n",
    "    ''' Prepares the data '''\n",
    "    \n",
    "    data = pandas.read_csv(path, header=None)\n",
    "    print (data.head(),len(data))\n",
    "    data = data[[1,2,3,4,5,6,7,8,9]]\n",
    "    print (data.head())\n",
    "    srcData = data.values.tolist()\n",
    "    return srcData"
   ]
  },
  {
   "cell_type": "code",
   "execution_count": 3,
   "metadata": {},
   "outputs": [
    {
     "name": "stdout",
     "output_type": "stream",
     "text": [
      "        0   1   2   3   4   5   6   7   8   9   10\n",
      "0  1000025   5   1   1   1   2   1   3   1   1   2\n",
      "1  1002945   5   4   4   5   7  10   3   2   1   2\n",
      "2  1015425   3   1   1   1   2   2   3   1   1   2\n",
      "3  1016277   6   8   8   1   3   4   3   7   1   2\n",
      "4  1017023   4   1   1   3   2   1   3   1   1   2 699\n",
      "   1  2  3  4  5   6  7  8  9\n",
      "0  5  1  1  1  2   1  3  1  1\n",
      "1  5  4  4  5  7  10  3  2  1\n",
      "2  3  1  1  1  2   2  3  1  1\n",
      "3  6  8  8  1  3   4  3  7  1\n",
      "4  4  1  1  3  2   1  3  1  1\n"
     ]
    }
   ],
   "source": [
    "path = 'data/bc.txt'\n",
    "data = dataPreparation(path)"
   ]
  },
  {
   "cell_type": "code",
   "execution_count": 207,
   "metadata": {},
   "outputs": [],
   "source": [
    "class KMeans:\n",
    "    ''' Main KMeans class '''\n",
    "    \n",
    "    def __init__(self, K):\n",
    "        ''' clusters : K x 9, numpy array of K clusters\n",
    "            allocation : Dictionary of K keys\n",
    "        '''\n",
    "        self.K = K\n",
    "        self.clusters = np.zeros(self.K)\n",
    "        #self.newClusters = np.zeros(self.K)\n",
    "        self.allocation = {}\n",
    "        self.newAllocation = {}\n",
    "        \n",
    "    def initCentroidSelection(self, data):\n",
    "        ''' Selects the initial K centroids \n",
    "            Any K datapoints is assumed to be the two initial clusters\n",
    "        '''\n",
    "        \n",
    "        n_data = data.shape[0]\n",
    "        initClusterIdx = np.random.choice(n_data, self.K)\n",
    "        #print (initClusterIdx)\n",
    "        self.clusters = data[initClusterIdx]\n",
    "        #print (\"Cluster:\",self.clusters)\n",
    "        \n",
    "    def calcDistance(self, X, Y):\n",
    "        ''' Calculates the Eucleidian distance between two numpy arrays   \n",
    "        '''\n",
    "        distance = np.sqrt(np.sum((X-Y)**2,axis=1))\n",
    "        #print (distance.shape)\n",
    "        return distance\n",
    "    \n",
    "    def dataAllocationToClusters(self, data):\n",
    "        ''' Allocates the datapoints to the respective clusters based on the Euclidean distance\n",
    "        '''\n",
    "        \n",
    "        #copy new allocation to old allocation first\n",
    "        if self.newAllocation:\n",
    "            for clusterNum in range(self.K):\n",
    "                #print (\"ff:\",clusterNum)\n",
    "                self.allocation[clusterNum] = self.newAllocation[clusterNum]\n",
    "        #input(\"allco\")\n",
    "        allDistFromEachCluster = []\n",
    "        #print (data.shape,self.clusters.shape)\n",
    "        for eachCluster in self.clusters:\n",
    "            distFromEachCluster = self.calcDistance(data, eachCluster)\n",
    "            #print (distFromEachCluster.shape, distFromEachCluster[0])\n",
    "            allDistFromEachCluster.append(distFromEachCluster)\n",
    "            #print (len(allDistFromEachCluster))\n",
    "            #input()\n",
    "        \n",
    "        allDistFromEachCluster = np.array(allDistFromEachCluster)\n",
    "        allocations = np.argmin(allDistFromEachCluster,axis=0)\n",
    "        \n",
    "        for i in range(self.K):\n",
    "            dataIdxAllocated = np.where(allocations==i)\n",
    "            #assert (dataIdxAllocated) != 0 \n",
    "            ''' Keeps the index of data allocated to each cluster '''\n",
    "            self.newAllocation[i] = dataIdxAllocated[0]\n",
    "\n",
    "    def newClusterCreation(self, data):\n",
    "        ''' Creates new K clusters based on previous allocations\n",
    "            This is done by calculating mean of each allocated data points to each clusters\n",
    "        '''\n",
    "        newClusterList = []\n",
    "        for eachCluster in range(self.K):\n",
    "            dataPoints = data[self.newAllocation[eachCluster]]\n",
    "            assert len(dataPoints) != 0\n",
    "            newClusterList.append(np.mean(dataPoints,axis=0))\n",
    "        self.clusters = np.array(newClusterList)\n",
    "        \n",
    "    def calcError(self):\n",
    "        ''' Calculate errors between final clusters and datapoints\n",
    "        '''\n",
    "        totalDistance = 0\n",
    "        for l in range(self.K):\n",
    "            dataPoints = data[self.newAllocation[l]]\n",
    "            dist = self.calcDistance(dataPoints,self.clusters[l])\n",
    "            totalDistance += sum(dist)\n",
    "            \n",
    "        print(\"totalDistance:\",totalDistance)\n",
    "        return totalDistance\n",
    "        \n",
    "    def checkStopingCondition(self):\n",
    "        ''' Checks if old and new allocations are same or different\n",
    "        '''\n",
    "        if (not self.allocation) or (not self.newAllocation):\n",
    "            return False\n",
    "        for l in range(self.K):\n",
    "            if (set(list(self.allocation[l])) != set(list(self.newAllocation[l]))):\n",
    "                return False\n",
    "        return True\n",
    "    \n",
    "def visualization(loss):\n",
    "    ''' Plots the data points with the centroids\n",
    "    '''\n",
    "    fig = plt.figure()\n",
    "    ax = plt.axes()\n",
    "    KList = loss.keys()\n",
    "    L = loss.values()\n",
    "    print (KList, L)\n",
    "    ax.plot(KList, L, label='Loss vs value',marker='o')\n",
    "    #plt.xlim(0,110)\n",
    "    #plt.ylim(0,0.2)\n",
    "    plt.title(\"KMeans-Loss vs K\")\n",
    "    plt.legend()\n",
    "    plt.xlabel(\"K\")\n",
    "    plt.ylabel(\"Loss\")\n",
    "    #fig.savefig(\"AccuracyVsK.png\")\n",
    "    plt.show()"
   ]
  },
  {
   "cell_type": "code",
   "execution_count": 221,
   "metadata": {},
   "outputs": [
    {
     "name": "stdout",
     "output_type": "stream",
     "text": [
      "totalDistance: 3056.9660203490866\n",
      "totalDistance: 2850.449172634807\n",
      "totalDistance: 2645.581278722949\n",
      "totalDistance: 2527.0509225415626\n",
      "totalDistance: 2432.214226738704\n",
      "totalDistance: 2404.7467841238536\n",
      "totalDistance: 2319.1247093360503\n",
      "totalDistance: 2303.8668605381936\n",
      "totalDistance: 2241.003717896833\n",
      "totalDistance: 2201.4720648758885\n",
      "dict_keys([2, 3, 4, 5, 6, 7, 8, 9, 10, 11]) dict_values([3056.9660203490866, 2850.449172634807, 2645.581278722949, 2527.0509225415626, 2432.214226738704, 2404.7467841238536, 2319.1247093360503, 2303.8668605381936, 2241.003717896833, 2201.4720648758885])\n"
     ]
    },
    {
     "data": {
      "image/png": "[encoded data removed]",
      "text/plain": [
       "<Figure size 432x288 with 1 Axes>"
      ]
     },
     "metadata": {
      "needs_background": "light"
     },
     "output_type": "display_data"
    }
   ],
   "source": [
    "allK = [2, 3, 4, 5, 6, 7, 8, 9, 10, 11]\n",
    "loss = {}\n",
    "for K in allK:\n",
    "    kmeans = KMeans(K)\n",
    "    data = np.array(data)\n",
    "    n_data = data.shape[0]\n",
    "    kmeans.initCentroidSelection(data)\n",
    "    kmeans.dataAllocationToClusters(data)\n",
    "    isDone = kmeans.checkStopingCondition()\n",
    "\n",
    "    count = 0\n",
    "    while(not isDone):\n",
    "        count += 1\n",
    "        kmeans.newClusterCreation(data)\n",
    "        kmeans.dataAllocationToClusters(data)\n",
    "        isDone = kmeans.checkStopingCondition()\n",
    "    L = kmeans.calcError()\n",
    "    loss[K] = L\n",
    "    \n",
    "visualization(loss)\n",
    "    "
   ]
  },
  {
   "cell_type": "code",
   "execution_count": null,
   "metadata": {},
   "outputs": [],
   "source": []
  },
  {
   "cell_type": "code",
   "execution_count": null,
   "metadata": {},
   "outputs": [],
   "source": []
  }
 ],
 "metadata": {
  "kernelspec": {
   "display_name": "Python 3",
   "language": "python",
   "name": "python3"
  },
  "language_info": {
   "codemirror_mode": {
    "name": "ipython",
    "version": 3
   },
   "file_extension": ".py",
   "mimetype": "text/x-python",
   "name": "python",
   "nbconvert_exporter": "python",
   "pygments_lexer": "ipython3",
   "version": "3.6.3"
  }
 },
 "nbformat": 4,
 "nbformat_minor": 2
}
