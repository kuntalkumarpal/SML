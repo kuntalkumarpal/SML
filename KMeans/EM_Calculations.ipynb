{
 "cells": [
  {
   "cell_type": "code",
   "execution_count": 9,
   "metadata": {},
   "outputs": [],
   "source": [
    "z = [-67,-48,6,8,14,16,23,24]\n",
    "u1 = -50\n",
    "u2 = 15\n",
    "s1 = math.sqrt(20)\n",
    "s2 = math.sqrt(20)"
   ]
  },
  {
   "cell_type": "code",
   "execution_count": 10,
   "metadata": {},
   "outputs": [
    {
     "name": "stdout",
     "output_type": "stream",
     "text": [
      "x: -67\n",
      "6.49557252613691e-05 8.820488946310409e-75\n",
      "x: -48\n",
      "0.08071711293576811 7.203193827005256e-45\n",
      "x: 6\n",
      "7.974577568524666e-36 0.01177466994075476\n",
      "x: 8\n",
      "2.668266108220909e-38 0.026205009872639688\n",
      "x: 14\n",
      "3.010510325497111e-46 0.08700369673862932\n",
      "x: 16\n",
      "4.526119214216026e-49 0.08700369673862932\n",
      "x: 23\n",
      "1.2345614634135865e-59 0.018010422336076838\n",
      "x: 24\n",
      "3.12953991787994e-61 0.01177466994075476\n",
      "[1.0, 1.0, 6.772654867312139e-34, 1.018227476802751e-36, 3.460209667344463e-45, 5.2022148298055544e-48, 6.854705794103592e-58, 2.6578578708587863e-59]\n",
      "[1.3579232486156518e-70, 8.923998350557098e-44, 1.0, 1.0, 1.0, 1.0, 1.0, 1.0]\n"
     ]
    }
   ],
   "source": [
    "\n",
    "pyu1=[]\n",
    "pyu2=[]\n",
    "for x in z:\n",
    "    print (\"x:\",x)\n",
    "    pxu1 = math.exp(-((x-u1)*(x-u1))/(2*s1*s1)) / (math.sqrt(2*math.pi)*s1)\n",
    "    pxu2 = math.exp(-((x-u2)*(x-u2))/(2*s2*s2)) / (math.sqrt(2*math.pi)*s2)\n",
    "    print (pxu1,pxu2)\n",
    "    pyu1.append((pxu1 * 0.5) / (pxu1*0.5 + pxu2*0.5))\n",
    "    pyu2.append((pxu2 * 0.5) / (pxu1*0.5 + pxu2*0.5))\n",
    "    #print (pyu1, pyu2)\n",
    "print (pyu1)\n",
    "print(pyu2)"
   ]
  },
  {
   "cell_type": "code",
   "execution_count": 15,
   "metadata": {},
   "outputs": [
    {
     "name": "stdout",
     "output_type": "stream",
     "text": [
      "-57.5\n",
      "146.5\n",
      "12.103718436910205\n",
      "2.0\n"
     ]
    }
   ],
   "source": [
    "uu1 = 0\n",
    "ss1 = 0\n",
    "for p,x in zip(pyu1,z):\n",
    "    uu1+=p*x\n",
    "    ss1+=p*(x-u1)*(x-u1)\n",
    "print (uu1/sum(pyu1))\n",
    "print ((ss1/sum(pyu1)))\n",
    "print (math.sqrt(ss1/sum(pyu1)))\n",
    "print (sum(pyu1))"
   ]
  },
  {
   "cell_type": "code",
   "execution_count": 16,
   "metadata": {},
   "outputs": [
    {
     "name": "stdout",
     "output_type": "stream",
     "text": [
      "15.166666666666666\n",
      "46.166666666666664\n",
      "6.794605703546503\n",
      "6.0\n"
     ]
    }
   ],
   "source": [
    "uu2 = 0\n",
    "ss2=0\n",
    "for p,x in zip(pyu2,z):\n",
    "    uu2+=p*x\n",
    "    ss2+=p*(x-u2)*(x-u2)\n",
    "print (uu2/sum(pyu2))\n",
    "print ((ss2/sum(pyu2)))\n",
    "print (math.sqrt(ss2/sum(pyu2)))\n",
    "print (sum(pyu2))"
   ]
  },
  {
   "cell_type": "code",
   "execution_count": null,
   "metadata": {},
   "outputs": [],
   "source": []
  }
 ],
 "metadata": {
  "kernelspec": {
   "display_name": "Python 3",
   "language": "python",
   "name": "python3"
  },
  "language_info": {
   "codemirror_mode": {
    "name": "ipython",
    "version": 3
   },
   "file_extension": ".py",
   "mimetype": "text/x-python",
   "name": "python",
   "nbconvert_exporter": "python",
   "pygments_lexer": "ipython3",
   "version": "3.6.3"
  }
 },
 "nbformat": 4,
 "nbformat_minor": 2
}
